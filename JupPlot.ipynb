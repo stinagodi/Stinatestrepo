{
 "cells": [
  {
   "cell_type": "markdown",
   "id": "36fa3c39-186c-458c-be56-bb3d8e2102da",
   "metadata": {
    "slideshow": {
     "slide_type": "slide"
    },
    "tags": []
   },
   "source": [
    "## Create a line Plot \n",
    "How to create a line plot"
   ]
  },
  {
   "cell_type": "code",
   "execution_count": 5,
   "id": "59cc28e8-665d-4b89-8f63-f7ec892d2cd3",
   "metadata": {
    "slideshow": {
     "slide_type": "slide"
    },
    "tags": []
   },
   "outputs": [],
   "source": [
    "a = [1, 2, 3, 4, 5, 6, 7]\n",
    "b = [-5, -6, -7, -8, -9, -10, -11]\n"
   ]
  },
  {
   "cell_type": "code",
   "execution_count": 6,
   "id": "a0f4937d-c6cd-4f0d-842d-ac07733df7cf",
   "metadata": {},
   "outputs": [],
   "source": [
    "import matplotlib.pyplot as Platina"
   ]
  },
  {
   "cell_type": "code",
   "execution_count": 7,
   "id": "6e261fef-6500-4d4a-9f0a-376fdc971433",
   "metadata": {
    "slideshow": {
     "slide_type": "slide"
    },
    "tags": []
   },
   "outputs": [
    {
     "data": {
      "text/plain": [
       "<function matplotlib.pyplot.show(close=None, block=None)>"
      ]
     },
     "execution_count": 7,
     "metadata": {},
     "output_type": "execute_result"
    },
    {
     "data": {
      "image/png": "[encoded data removed]",
      "text/plain": [
       "<Figure size 432x288 with 1 Axes>"
      ]
     },
     "metadata": {
      "needs_background": "light"
     },
     "output_type": "display_data"
    }
   ],
   "source": [
    "Platina.plot(a,b)\n",
    "Platina.show"
   ]
  },
  {
   "cell_type": "code",
   "execution_count": null,
   "id": "299ad159-46bd-4a49-ab12-8a7995c24d19",
   "metadata": {
    "slideshow": {
     "slide_type": "slide"
    },
    "tags": []
   },
   "outputs": [],
   "source": []
  }
 ],
 "metadata": {
  "kernelspec": {
   "display_name": "Python",
   "language": "python",
   "name": "conda-env-python-py"
  },
  "language_info": {
   "codemirror_mode": {
    "name": "ipython",
    "version": 3
   },
   "file_extension": ".py",
   "mimetype": "text/x-python",
   "name": "python",
   "nbconvert_exporter": "python",
   "pygments_lexer": "ipython3",
   "version": "3.6.13"
  }
 },
 "nbformat": 4,
 "nbformat_minor": 5
}
